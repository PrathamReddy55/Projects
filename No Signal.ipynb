{
 "cells": [
  {
   "cell_type": "code",
   "execution_count": 1,
   "id": "e415cd2e",
   "metadata": {},
   "outputs": [],
   "source": [
    "import pandas as pd\n",
    "import numpy as np\n",
    "import seaborn as sns\n",
    "import matplotlib.pyplot as plt\n",
    "import statistics as stat"
   ]
  },
  {
   "cell_type": "code",
   "execution_count": 2,
   "id": "4bdcd37d",
   "metadata": {},
   "outputs": [
    {
     "data": {
      "text/html": [
       "<div>\n",
       "<style scoped>\n",
       "    .dataframe tbody tr th:only-of-type {\n",
       "        vertical-align: middle;\n",
       "    }\n",
       "\n",
       "    .dataframe tbody tr th {\n",
       "        vertical-align: top;\n",
       "    }\n",
       "\n",
       "    .dataframe thead th {\n",
       "        text-align: right;\n",
       "    }\n",
       "</style>\n",
       "<table border=\"1\" class=\"dataframe\">\n",
       "  <thead>\n",
       "    <tr style=\"text-align: right;\">\n",
       "      <th></th>\n",
       "      <th>State</th>\n",
       "      <th>Year</th>\n",
       "      <th>Type_code</th>\n",
       "      <th>Type</th>\n",
       "      <th>Gender</th>\n",
       "      <th>Age_group</th>\n",
       "      <th>Total</th>\n",
       "    </tr>\n",
       "  </thead>\n",
       "  <tbody>\n",
       "    <tr>\n",
       "      <th>0</th>\n",
       "      <td>A &amp; N Islands</td>\n",
       "      <td>2001</td>\n",
       "      <td>Causes</td>\n",
       "      <td>Illness (Aids/STD)</td>\n",
       "      <td>Female</td>\n",
       "      <td>0-14</td>\n",
       "      <td>0</td>\n",
       "    </tr>\n",
       "    <tr>\n",
       "      <th>1</th>\n",
       "      <td>A &amp; N Islands</td>\n",
       "      <td>2001</td>\n",
       "      <td>Causes</td>\n",
       "      <td>Bankruptcy or Sudden change in Economic</td>\n",
       "      <td>Female</td>\n",
       "      <td>0-14</td>\n",
       "      <td>0</td>\n",
       "    </tr>\n",
       "    <tr>\n",
       "      <th>2</th>\n",
       "      <td>A &amp; N Islands</td>\n",
       "      <td>2001</td>\n",
       "      <td>Causes</td>\n",
       "      <td>Cancellation/Non-Settlement of Marriage</td>\n",
       "      <td>Female</td>\n",
       "      <td>0-14</td>\n",
       "      <td>0</td>\n",
       "    </tr>\n",
       "    <tr>\n",
       "      <th>3</th>\n",
       "      <td>A &amp; N Islands</td>\n",
       "      <td>2001</td>\n",
       "      <td>Causes</td>\n",
       "      <td>Physical Abuse (Rape/Incest Etc.)</td>\n",
       "      <td>Female</td>\n",
       "      <td>0-14</td>\n",
       "      <td>0</td>\n",
       "    </tr>\n",
       "    <tr>\n",
       "      <th>4</th>\n",
       "      <td>A &amp; N Islands</td>\n",
       "      <td>2001</td>\n",
       "      <td>Causes</td>\n",
       "      <td>Dowry Dispute</td>\n",
       "      <td>Female</td>\n",
       "      <td>0-14</td>\n",
       "      <td>0</td>\n",
       "    </tr>\n",
       "    <tr>\n",
       "      <th>...</th>\n",
       "      <td>...</td>\n",
       "      <td>...</td>\n",
       "      <td>...</td>\n",
       "      <td>...</td>\n",
       "      <td>...</td>\n",
       "      <td>...</td>\n",
       "      <td>...</td>\n",
       "    </tr>\n",
       "    <tr>\n",
       "      <th>237514</th>\n",
       "      <td>West Bengal</td>\n",
       "      <td>2012</td>\n",
       "      <td>Social_Status</td>\n",
       "      <td>Seperated</td>\n",
       "      <td>Male</td>\n",
       "      <td>0-100+</td>\n",
       "      <td>149</td>\n",
       "    </tr>\n",
       "    <tr>\n",
       "      <th>237515</th>\n",
       "      <td>West Bengal</td>\n",
       "      <td>2012</td>\n",
       "      <td>Social_Status</td>\n",
       "      <td>Widowed/Widower</td>\n",
       "      <td>Male</td>\n",
       "      <td>0-100+</td>\n",
       "      <td>233</td>\n",
       "    </tr>\n",
       "    <tr>\n",
       "      <th>237516</th>\n",
       "      <td>West Bengal</td>\n",
       "      <td>2012</td>\n",
       "      <td>Social_Status</td>\n",
       "      <td>Married</td>\n",
       "      <td>Male</td>\n",
       "      <td>0-100+</td>\n",
       "      <td>5451</td>\n",
       "    </tr>\n",
       "    <tr>\n",
       "      <th>237517</th>\n",
       "      <td>West Bengal</td>\n",
       "      <td>2012</td>\n",
       "      <td>Social_Status</td>\n",
       "      <td>Divorcee</td>\n",
       "      <td>Male</td>\n",
       "      <td>0-100+</td>\n",
       "      <td>189</td>\n",
       "    </tr>\n",
       "    <tr>\n",
       "      <th>237518</th>\n",
       "      <td>West Bengal</td>\n",
       "      <td>2012</td>\n",
       "      <td>Social_Status</td>\n",
       "      <td>Never Married</td>\n",
       "      <td>Male</td>\n",
       "      <td>0-100+</td>\n",
       "      <td>2658</td>\n",
       "    </tr>\n",
       "  </tbody>\n",
       "</table>\n",
       "<p>237519 rows × 7 columns</p>\n",
       "</div>"
      ],
      "text/plain": [
       "                State  Year      Type_code  \\\n",
       "0       A & N Islands  2001         Causes   \n",
       "1       A & N Islands  2001         Causes   \n",
       "2       A & N Islands  2001         Causes   \n",
       "3       A & N Islands  2001         Causes   \n",
       "4       A & N Islands  2001         Causes   \n",
       "...               ...   ...            ...   \n",
       "237514    West Bengal  2012  Social_Status   \n",
       "237515    West Bengal  2012  Social_Status   \n",
       "237516    West Bengal  2012  Social_Status   \n",
       "237517    West Bengal  2012  Social_Status   \n",
       "237518    West Bengal  2012  Social_Status   \n",
       "\n",
       "                                           Type  Gender Age_group  Total  \n",
       "0                            Illness (Aids/STD)  Female      0-14      0  \n",
       "1       Bankruptcy or Sudden change in Economic  Female      0-14      0  \n",
       "2       Cancellation/Non-Settlement of Marriage  Female      0-14      0  \n",
       "3             Physical Abuse (Rape/Incest Etc.)  Female      0-14      0  \n",
       "4                                 Dowry Dispute  Female      0-14      0  \n",
       "...                                         ...     ...       ...    ...  \n",
       "237514                                Seperated    Male    0-100+    149  \n",
       "237515                          Widowed/Widower    Male    0-100+    233  \n",
       "237516                                  Married    Male    0-100+   5451  \n",
       "237517                                 Divorcee    Male    0-100+    189  \n",
       "237518                            Never Married    Male    0-100+   2658  \n",
       "\n",
       "[237519 rows x 7 columns]"
      ]
     },
     "execution_count": 2,
     "metadata": {},
     "output_type": "execute_result"
    }
   ],
   "source": [
    "df=pd.read_csv(\"Downloads/Suicides in India 2001-2012.csv\")\n",
    "df"
   ]
  },
  {
   "cell_type": "code",
   "execution_count": 3,
   "id": "fc06b3ee",
   "metadata": {},
   "outputs": [
    {
     "data": {
      "text/html": [
       "<div>\n",
       "<style scoped>\n",
       "    .dataframe tbody tr th:only-of-type {\n",
       "        vertical-align: middle;\n",
       "    }\n",
       "\n",
       "    .dataframe tbody tr th {\n",
       "        vertical-align: top;\n",
       "    }\n",
       "\n",
       "    .dataframe thead th {\n",
       "        text-align: right;\n",
       "    }\n",
       "</style>\n",
       "<table border=\"1\" class=\"dataframe\">\n",
       "  <thead>\n",
       "    <tr style=\"text-align: right;\">\n",
       "      <th></th>\n",
       "      <th>State</th>\n",
       "      <th>Year</th>\n",
       "      <th>Type_code</th>\n",
       "      <th>Type</th>\n",
       "      <th>Gender</th>\n",
       "      <th>Age_group</th>\n",
       "      <th>Total</th>\n",
       "    </tr>\n",
       "  </thead>\n",
       "  <tbody>\n",
       "    <tr>\n",
       "      <th>0</th>\n",
       "      <td>A &amp; N Islands</td>\n",
       "      <td>2001</td>\n",
       "      <td>Causes</td>\n",
       "      <td>Illness (Aids/STD)</td>\n",
       "      <td>Female</td>\n",
       "      <td>0-14</td>\n",
       "      <td>0</td>\n",
       "    </tr>\n",
       "    <tr>\n",
       "      <th>1</th>\n",
       "      <td>A &amp; N Islands</td>\n",
       "      <td>2001</td>\n",
       "      <td>Causes</td>\n",
       "      <td>Bankruptcy or Sudden change in Economic</td>\n",
       "      <td>Female</td>\n",
       "      <td>0-14</td>\n",
       "      <td>0</td>\n",
       "    </tr>\n",
       "    <tr>\n",
       "      <th>2</th>\n",
       "      <td>A &amp; N Islands</td>\n",
       "      <td>2001</td>\n",
       "      <td>Causes</td>\n",
       "      <td>Cancellation/Non-Settlement of Marriage</td>\n",
       "      <td>Female</td>\n",
       "      <td>0-14</td>\n",
       "      <td>0</td>\n",
       "    </tr>\n",
       "    <tr>\n",
       "      <th>3</th>\n",
       "      <td>A &amp; N Islands</td>\n",
       "      <td>2001</td>\n",
       "      <td>Causes</td>\n",
       "      <td>Physical Abuse (Rape/Incest Etc.)</td>\n",
       "      <td>Female</td>\n",
       "      <td>0-14</td>\n",
       "      <td>0</td>\n",
       "    </tr>\n",
       "    <tr>\n",
       "      <th>4</th>\n",
       "      <td>A &amp; N Islands</td>\n",
       "      <td>2001</td>\n",
       "      <td>Causes</td>\n",
       "      <td>Dowry Dispute</td>\n",
       "      <td>Female</td>\n",
       "      <td>0-14</td>\n",
       "      <td>0</td>\n",
       "    </tr>\n",
       "    <tr>\n",
       "      <th>...</th>\n",
       "      <td>...</td>\n",
       "      <td>...</td>\n",
       "      <td>...</td>\n",
       "      <td>...</td>\n",
       "      <td>...</td>\n",
       "      <td>...</td>\n",
       "      <td>...</td>\n",
       "    </tr>\n",
       "    <tr>\n",
       "      <th>237514</th>\n",
       "      <td>West Bengal</td>\n",
       "      <td>2012</td>\n",
       "      <td>Social_Status</td>\n",
       "      <td>Seperated</td>\n",
       "      <td>Male</td>\n",
       "      <td>0-100+</td>\n",
       "      <td>149</td>\n",
       "    </tr>\n",
       "    <tr>\n",
       "      <th>237515</th>\n",
       "      <td>West Bengal</td>\n",
       "      <td>2012</td>\n",
       "      <td>Social_Status</td>\n",
       "      <td>Widowed/Widower</td>\n",
       "      <td>Male</td>\n",
       "      <td>0-100+</td>\n",
       "      <td>233</td>\n",
       "    </tr>\n",
       "    <tr>\n",
       "      <th>237516</th>\n",
       "      <td>West Bengal</td>\n",
       "      <td>2012</td>\n",
       "      <td>Social_Status</td>\n",
       "      <td>Married</td>\n",
       "      <td>Male</td>\n",
       "      <td>0-100+</td>\n",
       "      <td>5451</td>\n",
       "    </tr>\n",
       "    <tr>\n",
       "      <th>237517</th>\n",
       "      <td>West Bengal</td>\n",
       "      <td>2012</td>\n",
       "      <td>Social_Status</td>\n",
       "      <td>Divorcee</td>\n",
       "      <td>Male</td>\n",
       "      <td>0-100+</td>\n",
       "      <td>189</td>\n",
       "    </tr>\n",
       "    <tr>\n",
       "      <th>237518</th>\n",
       "      <td>West Bengal</td>\n",
       "      <td>2012</td>\n",
       "      <td>Social_Status</td>\n",
       "      <td>Never Married</td>\n",
       "      <td>Male</td>\n",
       "      <td>0-100+</td>\n",
       "      <td>2658</td>\n",
       "    </tr>\n",
       "  </tbody>\n",
       "</table>\n",
       "<p>237519 rows × 7 columns</p>\n",
       "</div>"
      ],
      "text/plain": [
       "                State  Year      Type_code  \\\n",
       "0       A & N Islands  2001         Causes   \n",
       "1       A & N Islands  2001         Causes   \n",
       "2       A & N Islands  2001         Causes   \n",
       "3       A & N Islands  2001         Causes   \n",
       "4       A & N Islands  2001         Causes   \n",
       "...               ...   ...            ...   \n",
       "237514    West Bengal  2012  Social_Status   \n",
       "237515    West Bengal  2012  Social_Status   \n",
       "237516    West Bengal  2012  Social_Status   \n",
       "237517    West Bengal  2012  Social_Status   \n",
       "237518    West Bengal  2012  Social_Status   \n",
       "\n",
       "                                           Type  Gender Age_group  Total  \n",
       "0                            Illness (Aids/STD)  Female      0-14      0  \n",
       "1       Bankruptcy or Sudden change in Economic  Female      0-14      0  \n",
       "2       Cancellation/Non-Settlement of Marriage  Female      0-14      0  \n",
       "3             Physical Abuse (Rape/Incest Etc.)  Female      0-14      0  \n",
       "4                                 Dowry Dispute  Female      0-14      0  \n",
       "...                                         ...     ...       ...    ...  \n",
       "237514                                Seperated    Male    0-100+    149  \n",
       "237515                          Widowed/Widower    Male    0-100+    233  \n",
       "237516                                  Married    Male    0-100+   5451  \n",
       "237517                                 Divorcee    Male    0-100+    189  \n",
       "237518                            Never Married    Male    0-100+   2658  \n",
       "\n",
       "[237519 rows x 7 columns]"
      ]
     },
     "execution_count": 3,
     "metadata": {},
     "output_type": "execute_result"
    }
   ],
   "source": [
    "df=pd.read_csv(\"Downloads/Suicides in India 2001-2012.csv\")\n",
    "df"
   ]
  },
  {
   "cell_type": "code",
   "execution_count": 4,
   "id": "658c5ff6",
   "metadata": {},
   "outputs": [
    {
     "data": {
      "text/plain": [
       "array(['A & N Islands', 'Andhra Pradesh', 'Arunachal Pradesh', 'Assam',\n",
       "       'Bihar', 'Chandigarh', 'Chhattisgarh', 'D & N Haveli',\n",
       "       'Daman & Diu', 'Delhi (Ut)', 'Goa', 'Gujarat', 'Haryana',\n",
       "       'Himachal Pradesh', 'Jammu & Kashmir', 'Jharkhand', 'Karnataka',\n",
       "       'Kerala', 'Lakshadweep', 'Madhya Pradesh', 'Maharashtra',\n",
       "       'Manipur', 'Meghalaya', 'Mizoram', 'Nagaland', 'Odisha',\n",
       "       'Puducherry', 'Punjab', 'Rajasthan', 'Sikkim', 'Tamil Nadu',\n",
       "       'Total (All India)', 'Total (States)', 'Total (Uts)', 'Tripura',\n",
       "       'Uttar Pradesh', 'Uttarakhand', 'West Bengal'], dtype=object)"
      ]
     },
     "execution_count": 4,
     "metadata": {},
     "output_type": "execute_result"
    }
   ],
   "source": [
    "df['State'].unique()\n"
   ]
  },
  {
   "cell_type": "markdown",
   "id": "00f0f4fa",
   "metadata": {},
   "source": [
    "# Gender wise cases"
   ]
  },
  {
   "cell_type": "code",
   "execution_count": 8,
   "id": "828233d1",
   "metadata": {},
   "outputs": [
    {
     "name": "stdout",
     "output_type": "stream",
     "text": [
      "          Total\n",
      "Gender         \n",
      "Female  2603623\n",
      "Male    4635149\n"
     ]
    },
    {
     "data": {
      "image/png": "[encoded data removed]",
      "text/plain": [
       "<Figure size 432x288 with 1 Axes>"
      ]
     },
     "metadata": {
      "needs_background": "light"
     },
     "output_type": "display_data"
    }
   ],
   "source": [
    "gen_tot=pd.DataFrame(df.groupby('Gender')['Total'].sum())\n",
    "print(gen_tot)\n",
    "plt.bar(df.Gender.unique(),gen_tot['Total'], color ='Pink',width = 0.4)\n",
    "plt.show()"
   ]
  },
  {
   "cell_type": "markdown",
   "id": "67a2b257",
   "metadata": {},
   "source": [
    "# State wise cases"
   ]
  },
  {
   "cell_type": "code",
   "execution_count": 6,
   "id": "cce105c2",
   "metadata": {},
   "outputs": [
    {
     "data": {
      "text/plain": [
       "State\n",
       "A & N Islands          8109\n",
       "Andhra Pradesh       813500\n",
       "Arunachal Pradesh      6633\n",
       "Assam                172050\n",
       "Bihar                 46079\n",
       "Chandigarh             5161\n",
       "Chhattisgarh         301961\n",
       "D & N Haveli           3430\n",
       "Daman & Diu            1391\n",
       "Delhi                 84266\n",
       "Goa                   17341\n",
       "Gujarat              330760\n",
       "Haryana              146821\n",
       "Himachal Pradesh      26546\n",
       "Jammu & Kashmir       14786\n",
       "Jharkhand             49675\n",
       "Karnataka            733707\n",
       "Kerala               538904\n",
       "Lakshadweep              50\n",
       "Madhya Pradesh       451334\n",
       "Maharashtra          901943\n",
       "Manipur                2101\n",
       "Meghalaya              5405\n",
       "Mizoram                4154\n",
       "Nagaland               1718\n",
       "Odisha               266247\n",
       "Puducherry            32144\n",
       "Punjab                46303\n",
       "Rajasthan            254633\n",
       "Sikkim                 9583\n",
       "Tamil Nadu           817677\n",
       "Tripura               45811\n",
       "Uttar Pradesh        232923\n",
       "Uttarakhand           18489\n",
       "West Bengal          847137\n",
       "Name: Total, dtype: int64"
      ]
     },
     "execution_count": 6,
     "metadata": {},
     "output_type": "execute_result"
    }
   ],
   "source": [
    "grp=df.groupby('State')['Total'].sum()\n",
    "grp"
   ]
  },
  {
   "cell_type": "code",
   "execution_count": 9,
   "id": "9373e97c",
   "metadata": {},
   "outputs": [
    {
     "data": {
      "text/plain": [
       "[Text(0, 0, 'Maharashtra'),\n",
       " Text(1, 0, 'West Bengal'),\n",
       " Text(2, 0, 'Tamil Nadu'),\n",
       " Text(3, 0, 'Andhra Pradesh'),\n",
       " Text(4, 0, 'Karnataka'),\n",
       " Text(5, 0, 'Kerala'),\n",
       " Text(6, 0, 'Madhya Pradesh'),\n",
       " Text(7, 0, 'Gujarat'),\n",
       " Text(8, 0, 'Chhattisgarh'),\n",
       " Text(9, 0, 'Odisha'),\n",
       " Text(10, 0, 'Rajasthan'),\n",
       " Text(11, 0, 'Uttar Pradesh'),\n",
       " Text(12, 0, 'Assam'),\n",
       " Text(13, 0, 'Haryana'),\n",
       " Text(14, 0, 'Delhi'),\n",
       " Text(15, 0, 'Jharkhand'),\n",
       " Text(16, 0, 'Punjab'),\n",
       " Text(17, 0, 'Bihar'),\n",
       " Text(18, 0, 'Tripura'),\n",
       " Text(19, 0, 'Puducherry'),\n",
       " Text(20, 0, 'Himachal Pradesh'),\n",
       " Text(21, 0, 'Uttarakhand'),\n",
       " Text(22, 0, 'Goa'),\n",
       " Text(23, 0, 'Jammu & Kashmir'),\n",
       " Text(24, 0, 'Sikkim'),\n",
       " Text(25, 0, 'A & N Islands'),\n",
       " Text(26, 0, 'Arunachal Pradesh'),\n",
       " Text(27, 0, 'Meghalaya'),\n",
       " Text(28, 0, 'Chandigarh'),\n",
       " Text(29, 0, 'Mizoram'),\n",
       " Text(30, 0, 'D & N Haveli'),\n",
       " Text(31, 0, 'Manipur'),\n",
       " Text(32, 0, 'Nagaland'),\n",
       " Text(33, 0, 'Daman & Diu'),\n",
       " Text(34, 0, 'Lakshadweep')]"
      ]
     },
     "execution_count": 9,
     "metadata": {},
     "output_type": "execute_result"
    },
    {
     "data": {
      "image/png": "[encoded data removed]",
      "text/plain": [
       "<Figure size 1296x432 with 1 Axes>"
      ]
     },
     "metadata": {
      "needs_background": "light"
     },
     "output_type": "display_data"
    }
   ],
   "source": [
    "import matplotlib.pyplot as plt\n",
    "grp=df.groupby('State')['Total'].sum()\n",
    "total_suicides=pd.DataFrame(grp).reset_index().sort_values('Total',ascending=False)\n",
    "fig , ax =plt.subplots(figsize=(18,6))\n",
    "g=sns.barplot(x='State',y='Total',data=total_suicides)\n",
    "g.set_xticklabels(g.get_xticklabels(),rotation=90)"
   ]
  },
  {
   "cell_type": "markdown",
   "id": "60c2eadd",
   "metadata": {},
   "source": [
    "# Total no of suicide in a particular state due to a particular type_code"
   ]
  },
  {
   "cell_type": "code",
   "execution_count": 11,
   "id": "9831630a",
   "metadata": {},
   "outputs": [
    {
     "name": "stdout",
     "output_type": "stream",
     "text": [
      "['Causes' 'Education_Status' 'Means_adopted' 'Professional_Profile'\n",
      " 'Social_Status']\n",
      "['A & N Islands' 'Andhra Pradesh' 'Arunachal Pradesh' 'Assam' 'Bihar'\n",
      " 'Chandigarh' 'Chhattisgarh' 'D & N Haveli' 'Daman & Diu' 'Delhi' 'Goa'\n",
      " 'Gujarat' 'Haryana' 'Himachal Pradesh' 'Jammu & Kashmir' 'Jharkhand'\n",
      " 'Karnataka' 'Kerala' 'Lakshadweep' 'Madhya Pradesh' 'Maharashtra'\n",
      " 'Manipur' 'Meghalaya' 'Mizoram' 'Nagaland' 'Odisha' 'Puducherry' 'Punjab'\n",
      " 'Rajasthan' 'Sikkim' 'Tamil Nadu' 'Tripura' 'Uttar Pradesh' 'Uttarakhand'\n",
      " 'West Bengal']\n",
      "Enter the type_codeMeans_adopted\n",
      "Enter the state: Sikkim\n"
     ]
    },
    {
     "data": {
      "text/html": [
       "<div>\n",
       "<style scoped>\n",
       "    .dataframe tbody tr th:only-of-type {\n",
       "        vertical-align: middle;\n",
       "    }\n",
       "\n",
       "    .dataframe tbody tr th {\n",
       "        vertical-align: top;\n",
       "    }\n",
       "\n",
       "    .dataframe thead th {\n",
       "        text-align: right;\n",
       "    }\n",
       "</style>\n",
       "<table border=\"1\" class=\"dataframe\">\n",
       "  <thead>\n",
       "    <tr style=\"text-align: right;\">\n",
       "      <th></th>\n",
       "      <th>State</th>\n",
       "      <th>Year</th>\n",
       "      <th>Type_code</th>\n",
       "      <th>Type</th>\n",
       "      <th>Gender</th>\n",
       "      <th>Age_group</th>\n",
       "      <th>Total</th>\n",
       "    </tr>\n",
       "  </thead>\n",
       "  <tbody>\n",
       "    <tr>\n",
       "      <th>196224</th>\n",
       "      <td>Sikkim</td>\n",
       "      <td>2001</td>\n",
       "      <td>Means_adopted</td>\n",
       "      <td>By Consuming Other Poison</td>\n",
       "      <td>Female</td>\n",
       "      <td>0-14</td>\n",
       "      <td>0</td>\n",
       "    </tr>\n",
       "    <tr>\n",
       "      <th>196225</th>\n",
       "      <td>Sikkim</td>\n",
       "      <td>2001</td>\n",
       "      <td>Means_adopted</td>\n",
       "      <td>By Fire-Arms</td>\n",
       "      <td>Female</td>\n",
       "      <td>0-14</td>\n",
       "      <td>0</td>\n",
       "    </tr>\n",
       "    <tr>\n",
       "      <th>196226</th>\n",
       "      <td>Sikkim</td>\n",
       "      <td>2001</td>\n",
       "      <td>Means_adopted</td>\n",
       "      <td>By Jumping from (Other sites)</td>\n",
       "      <td>Female</td>\n",
       "      <td>0-14</td>\n",
       "      <td>0</td>\n",
       "    </tr>\n",
       "    <tr>\n",
       "      <th>196227</th>\n",
       "      <td>Sikkim</td>\n",
       "      <td>2001</td>\n",
       "      <td>Means_adopted</td>\n",
       "      <td>By Over Alcoholism</td>\n",
       "      <td>Female</td>\n",
       "      <td>0-14</td>\n",
       "      <td>0</td>\n",
       "    </tr>\n",
       "    <tr>\n",
       "      <th>196228</th>\n",
       "      <td>Sikkim</td>\n",
       "      <td>2001</td>\n",
       "      <td>Means_adopted</td>\n",
       "      <td>By Overdose of sleeping pills</td>\n",
       "      <td>Female</td>\n",
       "      <td>0-14</td>\n",
       "      <td>0</td>\n",
       "    </tr>\n",
       "    <tr>\n",
       "      <th>...</th>\n",
       "      <td>...</td>\n",
       "      <td>...</td>\n",
       "      <td>...</td>\n",
       "      <td>...</td>\n",
       "      <td>...</td>\n",
       "      <td>...</td>\n",
       "      <td>...</td>\n",
       "    </tr>\n",
       "    <tr>\n",
       "      <th>202558</th>\n",
       "      <td>Sikkim</td>\n",
       "      <td>2012</td>\n",
       "      <td>Means_adopted</td>\n",
       "      <td>By Self Infliction of injury</td>\n",
       "      <td>Male</td>\n",
       "      <td>60+</td>\n",
       "      <td>0</td>\n",
       "    </tr>\n",
       "    <tr>\n",
       "      <th>202559</th>\n",
       "      <td>Sikkim</td>\n",
       "      <td>2012</td>\n",
       "      <td>Means_adopted</td>\n",
       "      <td>By Over Alcoholism</td>\n",
       "      <td>Male</td>\n",
       "      <td>60+</td>\n",
       "      <td>0</td>\n",
       "    </tr>\n",
       "    <tr>\n",
       "      <th>202560</th>\n",
       "      <td>Sikkim</td>\n",
       "      <td>2012</td>\n",
       "      <td>Means_adopted</td>\n",
       "      <td>By Jumping off Moving Vehicles/Trains</td>\n",
       "      <td>Male</td>\n",
       "      <td>60+</td>\n",
       "      <td>0</td>\n",
       "    </tr>\n",
       "    <tr>\n",
       "      <th>202561</th>\n",
       "      <td>Sikkim</td>\n",
       "      <td>2012</td>\n",
       "      <td>Means_adopted</td>\n",
       "      <td>By Consuming Other Poison</td>\n",
       "      <td>Male</td>\n",
       "      <td>60+</td>\n",
       "      <td>0</td>\n",
       "    </tr>\n",
       "    <tr>\n",
       "      <th>202562</th>\n",
       "      <td>Sikkim</td>\n",
       "      <td>2012</td>\n",
       "      <td>Means_adopted</td>\n",
       "      <td>By Jumping from (Building)</td>\n",
       "      <td>Male</td>\n",
       "      <td>60+</td>\n",
       "      <td>0</td>\n",
       "    </tr>\n",
       "  </tbody>\n",
       "</table>\n",
       "<p>1910 rows × 7 columns</p>\n",
       "</div>"
      ],
      "text/plain": [
       "         State  Year      Type_code                                   Type  \\\n",
       "196224  Sikkim  2001  Means_adopted              By Consuming Other Poison   \n",
       "196225  Sikkim  2001  Means_adopted                           By Fire-Arms   \n",
       "196226  Sikkim  2001  Means_adopted          By Jumping from (Other sites)   \n",
       "196227  Sikkim  2001  Means_adopted                     By Over Alcoholism   \n",
       "196228  Sikkim  2001  Means_adopted          By Overdose of sleeping pills   \n",
       "...        ...   ...            ...                                    ...   \n",
       "202558  Sikkim  2012  Means_adopted           By Self Infliction of injury   \n",
       "202559  Sikkim  2012  Means_adopted                     By Over Alcoholism   \n",
       "202560  Sikkim  2012  Means_adopted  By Jumping off Moving Vehicles/Trains   \n",
       "202561  Sikkim  2012  Means_adopted              By Consuming Other Poison   \n",
       "202562  Sikkim  2012  Means_adopted             By Jumping from (Building)   \n",
       "\n",
       "        Gender Age_group  Total  \n",
       "196224  Female      0-14      0  \n",
       "196225  Female      0-14      0  \n",
       "196226  Female      0-14      0  \n",
       "196227  Female      0-14      0  \n",
       "196228  Female      0-14      0  \n",
       "...        ...       ...    ...  \n",
       "202558    Male       60+      0  \n",
       "202559    Male       60+      0  \n",
       "202560    Male       60+      0  \n",
       "202561    Male       60+      0  \n",
       "202562    Male       60+      0  \n",
       "\n",
       "[1910 rows x 7 columns]"
      ]
     },
     "execution_count": 11,
     "metadata": {},
     "output_type": "execute_result"
    }
   ],
   "source": [
    "Type_code_menu=df['Type_code'].unique()\n",
    "state_menu=df['State'].unique()\n",
    "print(Type_code_menu)\n",
    "print(state_menu)\n",
    "ty_co=input(\"Enter the type_code\")\n",
    "state=input(\"Enter the state: \")\n",
    "data=df[df['State']==state]\n",
    "typ_c = data[data['Type_code'] == ty_co]\n",
    "typ_c"
   ]
  },
  {
   "cell_type": "code",
   "execution_count": 13,
   "id": "6413679e",
   "metadata": {},
   "outputs": [
    {
     "data": {
      "text/html": [
       "<div>\n",
       "<style scoped>\n",
       "    .dataframe tbody tr th:only-of-type {\n",
       "        vertical-align: middle;\n",
       "    }\n",
       "\n",
       "    .dataframe tbody tr th {\n",
       "        vertical-align: top;\n",
       "    }\n",
       "\n",
       "    .dataframe thead th {\n",
       "        text-align: right;\n",
       "    }\n",
       "</style>\n",
       "<table border=\"1\" class=\"dataframe\">\n",
       "  <thead>\n",
       "    <tr style=\"text-align: right;\">\n",
       "      <th></th>\n",
       "      <th>Total</th>\n",
       "    </tr>\n",
       "    <tr>\n",
       "      <th>Year</th>\n",
       "      <th></th>\n",
       "    </tr>\n",
       "  </thead>\n",
       "  <tbody>\n",
       "    <tr>\n",
       "      <th>2001</th>\n",
       "      <td>94</td>\n",
       "    </tr>\n",
       "    <tr>\n",
       "      <th>2002</th>\n",
       "      <td>55</td>\n",
       "    </tr>\n",
       "    <tr>\n",
       "      <th>2003</th>\n",
       "      <td>105</td>\n",
       "    </tr>\n",
       "    <tr>\n",
       "      <th>2004</th>\n",
       "      <td>98</td>\n",
       "    </tr>\n",
       "    <tr>\n",
       "      <th>2005</th>\n",
       "      <td>109</td>\n",
       "    </tr>\n",
       "    <tr>\n",
       "      <th>2006</th>\n",
       "      <td>145</td>\n",
       "    </tr>\n",
       "    <tr>\n",
       "      <th>2007</th>\n",
       "      <td>122</td>\n",
       "    </tr>\n",
       "    <tr>\n",
       "      <th>2008</th>\n",
       "      <td>287</td>\n",
       "    </tr>\n",
       "    <tr>\n",
       "      <th>2009</th>\n",
       "      <td>241</td>\n",
       "    </tr>\n",
       "    <tr>\n",
       "      <th>2010</th>\n",
       "      <td>280</td>\n",
       "    </tr>\n",
       "    <tr>\n",
       "      <th>2011</th>\n",
       "      <td>184</td>\n",
       "    </tr>\n",
       "    <tr>\n",
       "      <th>2012</th>\n",
       "      <td>181</td>\n",
       "    </tr>\n",
       "  </tbody>\n",
       "</table>\n",
       "</div>"
      ],
      "text/plain": [
       "      Total\n",
       "Year       \n",
       "2001     94\n",
       "2002     55\n",
       "2003    105\n",
       "2004     98\n",
       "2005    109\n",
       "2006    145\n",
       "2007    122\n",
       "2008    287\n",
       "2009    241\n",
       "2010    280\n",
       "2011    184\n",
       "2012    181"
      ]
     },
     "execution_count": 13,
     "metadata": {},
     "output_type": "execute_result"
    }
   ],
   "source": [
    "year_count=pd.DataFrame(typ_c.groupby('Year')['Total'].sum())\n",
    "year_count\n",
    "     "
   ]
  },
  {
   "cell_type": "code",
   "execution_count": 14,
   "id": "7c3cad12",
   "metadata": {},
   "outputs": [
    {
     "data": {
      "text/plain": [
       "158.41666666666666"
      ]
     },
     "execution_count": 14,
     "metadata": {},
     "output_type": "execute_result"
    }
   ],
   "source": [
    "year_count.Total.mean()"
   ]
  },
  {
   "cell_type": "code",
   "execution_count": 15,
   "id": "90d0083d",
   "metadata": {},
   "outputs": [
    {
     "data": {
      "text/plain": [
       "<BarContainer object of 12 artists>"
      ]
     },
     "execution_count": 15,
     "metadata": {},
     "output_type": "execute_result"
    },
    {
     "data": {
      "image/png": "[encoded data removed]",
      "text/plain": [
       "<Figure size 432x288 with 1 Axes>"
      ]
     },
     "metadata": {
      "needs_background": "light"
     },
     "output_type": "display_data"
    }
   ],
   "source": [
    "plt.bar(df.Year.unique(),year_count['Total'], color ='maroon',width = 0.4)"
   ]
  },
  {
   "cell_type": "markdown",
   "id": "ddbace9d",
   "metadata": {},
   "source": [
    "# Year wise suicide in a particular state due to particular type"
   ]
  },
  {
   "cell_type": "code",
   "execution_count": 16,
   "id": "1a98e325",
   "metadata": {},
   "outputs": [
    {
     "name": "stdout",
     "output_type": "stream",
     "text": [
      "['Illness (Aids/STD)' 'Bankruptcy or Sudden change in Economic'\n",
      " 'Cancellation/Non-Settlement of Marriage'\n",
      " 'Physical Abuse (Rape/Incest Etc.)' 'Dowry Dispute' 'Family Problems'\n",
      " 'Ideological Causes/Hero Worshipping' 'Other Prolonged Illness'\n",
      " 'Property Dispute' 'Fall in Social Reputation' 'Illegitimate Pregnancy'\n",
      " 'Failure in Examination' 'Insanity/Mental Illness' 'Love Affairs'\n",
      " 'Professional/Career Problem' 'Divorce' 'Drug Abuse/Addiction'\n",
      " 'Not having Children' 'Causes Not known' 'Unemployment'\n",
      " 'Other Causes (Please Specity)' 'Poverty' 'Death of Dear Person' 'Cancer'\n",
      " 'Suspected/Illicit Relation' 'Paralysis' 'Diploma' 'No Education'\n",
      " 'Post Graduate and Above' 'Middle' 'Graduate'\n",
      " 'Hr. Secondary/Intermediate/Pre-Universit' 'Primary'\n",
      " 'Matriculate/Secondary' 'By Consuming Insecticides' 'By Hanging'\n",
      " 'By Jumping from (Other sites)' 'By touching electric wires' 'By Machine'\n",
      " 'By Fire/Self Immolation' 'By Jumping off Moving Vehicles/Trains'\n",
      " 'By other means' 'By Self Infliction of injury' 'By Over Alcoholism'\n",
      " 'By Consuming Other Poison' 'By coming under running vehicles/trains'\n",
      " 'By Overdose of sleeping pills' 'By Jumping from (Building)'\n",
      " 'By Drowning' 'By Fire-Arms' 'Retired Person' 'Unemployed'\n",
      " 'Public Sector Undertaking' 'Service (Private)' 'House Wife'\n",
      " 'Self-employed (Business activity)' 'Professional Activity' 'Student'\n",
      " 'Others (Please Specify)' 'Farming/Agriculture Activity'\n",
      " 'Service (Government)' 'Married' 'Seperated' 'Widowed/Widower' 'Divorcee'\n",
      " 'Never Married' 'Bankruptcy or Sudden change in Economic Status'\n",
      " 'Not having Children (Barrenness/Impotency']\n",
      "['A & N Islands' 'Andhra Pradesh' 'Arunachal Pradesh' 'Assam' 'Bihar'\n",
      " 'Chandigarh' 'Chhattisgarh' 'D & N Haveli' 'Daman & Diu' 'Delhi' 'Goa'\n",
      " 'Gujarat' 'Haryana' 'Himachal Pradesh' 'Jammu & Kashmir' 'Jharkhand'\n",
      " 'Karnataka' 'Kerala' 'Lakshadweep' 'Madhya Pradesh' 'Maharashtra'\n",
      " 'Manipur' 'Meghalaya' 'Mizoram' 'Nagaland' 'Odisha' 'Puducherry' 'Punjab'\n",
      " 'Rajasthan' 'Sikkim' 'Tamil Nadu' 'Tripura' 'Uttar Pradesh' 'Uttarakhand'\n",
      " 'West Bengal']\n",
      "Family Problems\n",
      "Enter the state: Tripura\n"
     ]
    },
    {
     "data": {
      "text/html": [
       "<div>\n",
       "<style scoped>\n",
       "    .dataframe tbody tr th:only-of-type {\n",
       "        vertical-align: middle;\n",
       "    }\n",
       "\n",
       "    .dataframe tbody tr th {\n",
       "        vertical-align: top;\n",
       "    }\n",
       "\n",
       "    .dataframe thead th {\n",
       "        text-align: right;\n",
       "    }\n",
       "</style>\n",
       "<table border=\"1\" class=\"dataframe\">\n",
       "  <thead>\n",
       "    <tr style=\"text-align: right;\">\n",
       "      <th></th>\n",
       "      <th>State</th>\n",
       "      <th>Year</th>\n",
       "      <th>Type_code</th>\n",
       "      <th>Type</th>\n",
       "      <th>Gender</th>\n",
       "      <th>Age_group</th>\n",
       "      <th>Total</th>\n",
       "    </tr>\n",
       "  </thead>\n",
       "  <tbody>\n",
       "    <tr>\n",
       "      <th>210436</th>\n",
       "      <td>Tripura</td>\n",
       "      <td>2001</td>\n",
       "      <td>Causes</td>\n",
       "      <td>Family Problems</td>\n",
       "      <td>Female</td>\n",
       "      <td>0-14</td>\n",
       "      <td>1</td>\n",
       "    </tr>\n",
       "    <tr>\n",
       "      <th>210441</th>\n",
       "      <td>Tripura</td>\n",
       "      <td>2001</td>\n",
       "      <td>Causes</td>\n",
       "      <td>Family Problems</td>\n",
       "      <td>Male</td>\n",
       "      <td>0-14</td>\n",
       "      <td>1</td>\n",
       "    </tr>\n",
       "    <tr>\n",
       "      <th>210475</th>\n",
       "      <td>Tripura</td>\n",
       "      <td>2001</td>\n",
       "      <td>Causes</td>\n",
       "      <td>Family Problems</td>\n",
       "      <td>Female</td>\n",
       "      <td>15-29</td>\n",
       "      <td>22</td>\n",
       "    </tr>\n",
       "    <tr>\n",
       "      <th>210497</th>\n",
       "      <td>Tripura</td>\n",
       "      <td>2001</td>\n",
       "      <td>Causes</td>\n",
       "      <td>Family Problems</td>\n",
       "      <td>Male</td>\n",
       "      <td>15-29</td>\n",
       "      <td>41</td>\n",
       "    </tr>\n",
       "    <tr>\n",
       "      <th>210539</th>\n",
       "      <td>Tripura</td>\n",
       "      <td>2001</td>\n",
       "      <td>Causes</td>\n",
       "      <td>Family Problems</td>\n",
       "      <td>Female</td>\n",
       "      <td>30-44</td>\n",
       "      <td>142</td>\n",
       "    </tr>\n",
       "    <tr>\n",
       "      <th>...</th>\n",
       "      <td>...</td>\n",
       "      <td>...</td>\n",
       "      <td>...</td>\n",
       "      <td>...</td>\n",
       "      <td>...</td>\n",
       "      <td>...</td>\n",
       "      <td>...</td>\n",
       "    </tr>\n",
       "    <tr>\n",
       "      <th>216760</th>\n",
       "      <td>Tripura</td>\n",
       "      <td>2012</td>\n",
       "      <td>Causes</td>\n",
       "      <td>Family Problems</td>\n",
       "      <td>Male</td>\n",
       "      <td>30-44</td>\n",
       "      <td>25</td>\n",
       "    </tr>\n",
       "    <tr>\n",
       "      <th>216803</th>\n",
       "      <td>Tripura</td>\n",
       "      <td>2012</td>\n",
       "      <td>Causes</td>\n",
       "      <td>Family Problems</td>\n",
       "      <td>Female</td>\n",
       "      <td>45-59</td>\n",
       "      <td>9</td>\n",
       "    </tr>\n",
       "    <tr>\n",
       "      <th>216827</th>\n",
       "      <td>Tripura</td>\n",
       "      <td>2012</td>\n",
       "      <td>Causes</td>\n",
       "      <td>Family Problems</td>\n",
       "      <td>Male</td>\n",
       "      <td>45-59</td>\n",
       "      <td>27</td>\n",
       "    </tr>\n",
       "    <tr>\n",
       "      <th>216858</th>\n",
       "      <td>Tripura</td>\n",
       "      <td>2012</td>\n",
       "      <td>Causes</td>\n",
       "      <td>Family Problems</td>\n",
       "      <td>Female</td>\n",
       "      <td>60+</td>\n",
       "      <td>11</td>\n",
       "    </tr>\n",
       "    <tr>\n",
       "      <th>216875</th>\n",
       "      <td>Tripura</td>\n",
       "      <td>2012</td>\n",
       "      <td>Causes</td>\n",
       "      <td>Family Problems</td>\n",
       "      <td>Male</td>\n",
       "      <td>60+</td>\n",
       "      <td>6</td>\n",
       "    </tr>\n",
       "  </tbody>\n",
       "</table>\n",
       "<p>120 rows × 7 columns</p>\n",
       "</div>"
      ],
      "text/plain": [
       "          State  Year Type_code             Type  Gender Age_group  Total\n",
       "210436  Tripura  2001    Causes  Family Problems  Female      0-14      1\n",
       "210441  Tripura  2001    Causes  Family Problems    Male      0-14      1\n",
       "210475  Tripura  2001    Causes  Family Problems  Female     15-29     22\n",
       "210497  Tripura  2001    Causes  Family Problems    Male     15-29     41\n",
       "210539  Tripura  2001    Causes  Family Problems  Female     30-44    142\n",
       "...         ...   ...       ...              ...     ...       ...    ...\n",
       "216760  Tripura  2012    Causes  Family Problems    Male     30-44     25\n",
       "216803  Tripura  2012    Causes  Family Problems  Female     45-59      9\n",
       "216827  Tripura  2012    Causes  Family Problems    Male     45-59     27\n",
       "216858  Tripura  2012    Causes  Family Problems  Female       60+     11\n",
       "216875  Tripura  2012    Causes  Family Problems    Male       60+      6\n",
       "\n",
       "[120 rows x 7 columns]"
      ]
     },
     "execution_count": 16,
     "metadata": {},
     "output_type": "execute_result"
    }
   ],
   "source": [
    "Type_menu=df['Type'].unique()\n",
    "state_menu=df['State'].unique()\n",
    "print(Type_menu)\n",
    "print(state_menu)\n",
    "ty=input()\n",
    "state=input(\"Enter the state: \")\n",
    "data=df[df['State']==state]\n",
    "typ = data[data['Type'] == ty]\n",
    "typ"
   ]
  },
  {
   "cell_type": "code",
   "execution_count": 18,
   "id": "711fc616",
   "metadata": {},
   "outputs": [
    {
     "data": {
      "text/plain": [
       "<BarContainer object of 12 artists>"
      ]
     },
     "execution_count": 18,
     "metadata": {},
     "output_type": "execute_result"
    },
    {
     "data": {
      "image/png": "[encoded data removed]",
      "text/plain": [
       "<Figure size 432x288 with 1 Axes>"
      ]
     },
     "metadata": {
      "needs_background": "light"
     },
     "output_type": "display_data"
    }
   ],
   "source": [
    "year_c=pd.DataFrame(typ.groupby('Year')['Total'].sum())\n",
    "year_c\n",
    "plt.bar(df.Year.unique(),year_c['Total'], color ='Green',width = 0.4)"
   ]
  },
  {
   "cell_type": "markdown",
   "id": "e5a589a0",
   "metadata": {},
   "source": [
    "# Year wise suicide in a perticular state by age-group"
   ]
  },
  {
   "cell_type": "code",
   "execution_count": 26,
   "id": "0f0f0155",
   "metadata": {},
   "outputs": [
    {
     "name": "stdout",
     "output_type": "stream",
     "text": [
      "['0-14' '15-29' '30-44' '45-59' '60+' '0-100+']\n",
      "['A & N Islands' 'Andhra Pradesh' 'Arunachal Pradesh' 'Assam' 'Bihar'\n",
      " 'Chandigarh' 'Chhattisgarh' 'D & N Haveli' 'Daman & Diu' 'Delhi' 'Goa'\n",
      " 'Gujarat' 'Haryana' 'Himachal Pradesh' 'Jammu & Kashmir' 'Jharkhand'\n",
      " 'Karnataka' 'Kerala' 'Lakshadweep' 'Madhya Pradesh' 'Maharashtra'\n",
      " 'Manipur' 'Meghalaya' 'Mizoram' 'Nagaland' 'Odisha' 'Puducherry' 'Punjab'\n",
      " 'Rajasthan' 'Sikkim' 'Tamil Nadu' 'Tripura' 'Uttar Pradesh' 'Uttarakhand'\n",
      " 'West Bengal']\n",
      "30-44\n",
      "Enter the state: Mizoram\n"
     ]
    },
    {
     "data": {
      "text/html": [
       "<div>\n",
       "<style scoped>\n",
       "    .dataframe tbody tr th:only-of-type {\n",
       "        vertical-align: middle;\n",
       "    }\n",
       "\n",
       "    .dataframe tbody tr th {\n",
       "        vertical-align: top;\n",
       "    }\n",
       "\n",
       "    .dataframe thead th {\n",
       "        text-align: right;\n",
       "    }\n",
       "</style>\n",
       "<table border=\"1\" class=\"dataframe\">\n",
       "  <thead>\n",
       "    <tr style=\"text-align: right;\">\n",
       "      <th></th>\n",
       "      <th>State</th>\n",
       "      <th>Year</th>\n",
       "      <th>Type_code</th>\n",
       "      <th>Type</th>\n",
       "      <th>Gender</th>\n",
       "      <th>Age_group</th>\n",
       "      <th>Total</th>\n",
       "    </tr>\n",
       "  </thead>\n",
       "  <tbody>\n",
       "    <tr>\n",
       "      <th>155519</th>\n",
       "      <td>Mizoram</td>\n",
       "      <td>2001</td>\n",
       "      <td>Causes</td>\n",
       "      <td>Fall in Social Reputation</td>\n",
       "      <td>Female</td>\n",
       "      <td>30-44</td>\n",
       "      <td>0</td>\n",
       "    </tr>\n",
       "    <tr>\n",
       "      <th>155520</th>\n",
       "      <td>Mizoram</td>\n",
       "      <td>2001</td>\n",
       "      <td>Causes</td>\n",
       "      <td>Drug Abuse/Addiction</td>\n",
       "      <td>Female</td>\n",
       "      <td>30-44</td>\n",
       "      <td>0</td>\n",
       "    </tr>\n",
       "    <tr>\n",
       "      <th>155521</th>\n",
       "      <td>Mizoram</td>\n",
       "      <td>2001</td>\n",
       "      <td>Causes</td>\n",
       "      <td>Other Prolonged Illness</td>\n",
       "      <td>Female</td>\n",
       "      <td>30-44</td>\n",
       "      <td>0</td>\n",
       "    </tr>\n",
       "    <tr>\n",
       "      <th>155522</th>\n",
       "      <td>Mizoram</td>\n",
       "      <td>2001</td>\n",
       "      <td>Causes</td>\n",
       "      <td>Failure in Examination</td>\n",
       "      <td>Female</td>\n",
       "      <td>30-44</td>\n",
       "      <td>0</td>\n",
       "    </tr>\n",
       "    <tr>\n",
       "      <th>155523</th>\n",
       "      <td>Mizoram</td>\n",
       "      <td>2001</td>\n",
       "      <td>Causes</td>\n",
       "      <td>Cancer</td>\n",
       "      <td>Female</td>\n",
       "      <td>30-44</td>\n",
       "      <td>0</td>\n",
       "    </tr>\n",
       "    <tr>\n",
       "      <th>...</th>\n",
       "      <td>...</td>\n",
       "      <td>...</td>\n",
       "      <td>...</td>\n",
       "      <td>...</td>\n",
       "      <td>...</td>\n",
       "      <td>...</td>\n",
       "      <td>...</td>\n",
       "    </tr>\n",
       "    <tr>\n",
       "      <th>162091</th>\n",
       "      <td>Mizoram</td>\n",
       "      <td>2012</td>\n",
       "      <td>Professional_Profile</td>\n",
       "      <td>Service (Government)</td>\n",
       "      <td>Male</td>\n",
       "      <td>30-44</td>\n",
       "      <td>1</td>\n",
       "    </tr>\n",
       "    <tr>\n",
       "      <th>162092</th>\n",
       "      <td>Mizoram</td>\n",
       "      <td>2012</td>\n",
       "      <td>Professional_Profile</td>\n",
       "      <td>Student</td>\n",
       "      <td>Male</td>\n",
       "      <td>30-44</td>\n",
       "      <td>5</td>\n",
       "    </tr>\n",
       "    <tr>\n",
       "      <th>162093</th>\n",
       "      <td>Mizoram</td>\n",
       "      <td>2012</td>\n",
       "      <td>Professional_Profile</td>\n",
       "      <td>Farming/Agriculture Activity</td>\n",
       "      <td>Male</td>\n",
       "      <td>30-44</td>\n",
       "      <td>5</td>\n",
       "    </tr>\n",
       "    <tr>\n",
       "      <th>162094</th>\n",
       "      <td>Mizoram</td>\n",
       "      <td>2012</td>\n",
       "      <td>Professional_Profile</td>\n",
       "      <td>Retired Person</td>\n",
       "      <td>Male</td>\n",
       "      <td>30-44</td>\n",
       "      <td>0</td>\n",
       "    </tr>\n",
       "    <tr>\n",
       "      <th>162095</th>\n",
       "      <td>Mizoram</td>\n",
       "      <td>2012</td>\n",
       "      <td>Professional_Profile</td>\n",
       "      <td>Service (Private)</td>\n",
       "      <td>Male</td>\n",
       "      <td>30-44</td>\n",
       "      <td>13</td>\n",
       "    </tr>\n",
       "  </tbody>\n",
       "</table>\n",
       "<p>1290 rows × 7 columns</p>\n",
       "</div>"
      ],
      "text/plain": [
       "          State  Year             Type_code                          Type  \\\n",
       "155519  Mizoram  2001                Causes     Fall in Social Reputation   \n",
       "155520  Mizoram  2001                Causes          Drug Abuse/Addiction   \n",
       "155521  Mizoram  2001                Causes       Other Prolonged Illness   \n",
       "155522  Mizoram  2001                Causes        Failure in Examination   \n",
       "155523  Mizoram  2001                Causes                        Cancer   \n",
       "...         ...   ...                   ...                           ...   \n",
       "162091  Mizoram  2012  Professional_Profile          Service (Government)   \n",
       "162092  Mizoram  2012  Professional_Profile                       Student   \n",
       "162093  Mizoram  2012  Professional_Profile  Farming/Agriculture Activity   \n",
       "162094  Mizoram  2012  Professional_Profile                Retired Person   \n",
       "162095  Mizoram  2012  Professional_Profile             Service (Private)   \n",
       "\n",
       "        Gender Age_group  Total  \n",
       "155519  Female     30-44      0  \n",
       "155520  Female     30-44      0  \n",
       "155521  Female     30-44      0  \n",
       "155522  Female     30-44      0  \n",
       "155523  Female     30-44      0  \n",
       "...        ...       ...    ...  \n",
       "162091    Male     30-44      1  \n",
       "162092    Male     30-44      5  \n",
       "162093    Male     30-44      5  \n",
       "162094    Male     30-44      0  \n",
       "162095    Male     30-44     13  \n",
       "\n",
       "[1290 rows x 7 columns]"
      ]
     },
     "execution_count": 26,
     "metadata": {},
     "output_type": "execute_result"
    }
   ],
   "source": [
    "agegrp_menu=df['Age_group'].unique()\n",
    "state_menu=df['State'].unique()\n",
    "print(agegrp_menu)\n",
    "print(state_menu)\n",
    "ag=input()\n",
    "state=input(\"Enter the state: \")\n",
    "data=df[df['State']==state]\n",
    "ag_gp = data[data['Age_group'] == ag]\n",
    "ag_gp"
   ]
  },
  {
   "cell_type": "code",
   "execution_count": 27,
   "id": "accca9cc",
   "metadata": {},
   "outputs": [
    {
     "data": {
      "text/plain": [
       "<BarContainer object of 12 artists>"
      ]
     },
     "execution_count": 27,
     "metadata": {},
     "output_type": "execute_result"
    },
    {
     "data": {
      "image/png": "[encoded data removed]",
      "text/plain": [
       "<Figure size 432x288 with 1 Axes>"
      ]
     },
     "metadata": {
      "needs_background": "light"
     },
     "output_type": "display_data"
    }
   ],
   "source": [
    "ag_data=pd.DataFrame(typ.groupby('Year')['Total'].sum())\n",
    "     \n",
    "\n",
    "ag_data.Total.mean()\n",
    "     \n",
    "\n",
    "plt.bar(df.Year.unique(),ag_data['Total'], color ='Black',width = 0.4)\n"
   ]
  },
  {
   "cell_type": "markdown",
   "id": "5f68104b",
   "metadata": {},
   "source": [
    "# If a suicide happen what is the probability of that happening in an particular state"
   ]
  },
  {
   "cell_type": "code",
   "execution_count": 28,
   "id": "4268dd1d",
   "metadata": {},
   "outputs": [
    {
     "data": {
      "text/plain": [
       "7238772"
      ]
     },
     "execution_count": 28,
     "metadata": {},
     "output_type": "execute_result"
    }
   ],
   "source": [
    "total_sum = df['Total'].sum()\n",
    "total_sum\n",
    "     "
   ]
  },
  {
   "cell_type": "code",
   "execution_count": 29,
   "id": "bf641830",
   "metadata": {},
   "outputs": [
    {
     "name": "stdout",
     "output_type": "stream",
     "text": [
      "['A & N Islands' 'Andhra Pradesh' 'Arunachal Pradesh' 'Assam' 'Bihar'\n",
      " 'Chandigarh' 'Chhattisgarh' 'D & N Haveli' 'Daman & Diu' 'Delhi' 'Goa'\n",
      " 'Gujarat' 'Haryana' 'Himachal Pradesh' 'Jammu & Kashmir' 'Jharkhand'\n",
      " 'Karnataka' 'Kerala' 'Lakshadweep' 'Madhya Pradesh' 'Maharashtra'\n",
      " 'Manipur' 'Meghalaya' 'Mizoram' 'Nagaland' 'Odisha' 'Puducherry' 'Punjab'\n",
      " 'Rajasthan' 'Sikkim' 'Tamil Nadu' 'Tripura' 'Uttar Pradesh' 'Uttarakhand'\n",
      " 'West Bengal'] \n",
      "\n",
      "Enter the state whose suicide you want to calculate: Jharkhand\n",
      "\n",
      "The probability of the state Jharkhand  is:  0.006862351791160158\n",
      "\n",
      "The percent in Jharkhand  is:  0.6862351791160158\n"
     ]
    }
   ],
   "source": [
    "state_menu = df['State'].unique()\n",
    "print(state_menu,\"\\n\")\n",
    "user_state = input(\"Enter the state whose suicide you want to calculate: \")\n",
    "state_wise = df.loc[df['State'] == user_state, 'Total'].sum()\n",
    "state_wise\n",
    "print(\"\\nThe probability of the state\",user_state,\" is: \",(state_wise/total_sum))\n",
    "print(\"\\nThe percent in\",user_state,\" is: \",(state_wise/total_sum)*100)\n",
    "     "
   ]
  },
  {
   "cell_type": "markdown",
   "id": "9c102759",
   "metadata": {},
   "source": [
    "# if a suicide happen in an perticular state then what is the prob of that happening due to a perticular Type:"
   ]
  },
  {
   "cell_type": "code",
   "execution_count": 30,
   "id": "f79f534b",
   "metadata": {},
   "outputs": [
    {
     "name": "stdout",
     "output_type": "stream",
     "text": [
      "['A & N Islands' 'Andhra Pradesh' 'Arunachal Pradesh' 'Assam' 'Bihar'\n",
      " 'Chandigarh' 'Chhattisgarh' 'D & N Haveli' 'Daman & Diu' 'Delhi' 'Goa'\n",
      " 'Gujarat' 'Haryana' 'Himachal Pradesh' 'Jammu & Kashmir' 'Jharkhand'\n",
      " 'Karnataka' 'Kerala' 'Lakshadweep' 'Madhya Pradesh' 'Maharashtra'\n",
      " 'Manipur' 'Meghalaya' 'Mizoram' 'Nagaland' 'Odisha' 'Puducherry' 'Punjab'\n",
      " 'Rajasthan' 'Sikkim' 'Tamil Nadu' 'Tripura' 'Uttar Pradesh' 'Uttarakhand'\n",
      " 'West Bengal'] \n",
      "\n",
      "Enter the state: Tripura\n",
      "\n",
      " ['Illness (Aids/STD)' 'Bankruptcy or Sudden change in Economic'\n",
      " 'Cancellation/Non-Settlement of Marriage'\n",
      " 'Physical Abuse (Rape/Incest Etc.)' 'Dowry Dispute' 'Family Problems'\n",
      " 'Ideological Causes/Hero Worshipping' 'Other Prolonged Illness'\n",
      " 'Property Dispute' 'Fall in Social Reputation' 'Illegitimate Pregnancy'\n",
      " 'Failure in Examination' 'Insanity/Mental Illness' 'Love Affairs'\n",
      " 'Professional/Career Problem' 'Divorce' 'Drug Abuse/Addiction'\n",
      " 'Not having Children' 'Causes Not known' 'Unemployment'\n",
      " 'Other Causes (Please Specity)' 'Poverty' 'Death of Dear Person' 'Cancer'\n",
      " 'Suspected/Illicit Relation' 'Paralysis' 'Diploma' 'No Education'\n",
      " 'Post Graduate and Above' 'Middle' 'Graduate'\n",
      " 'Hr. Secondary/Intermediate/Pre-Universit' 'Primary'\n",
      " 'Matriculate/Secondary' 'By Consuming Insecticides' 'By Hanging'\n",
      " 'By Jumping from (Other sites)' 'By touching electric wires' 'By Machine'\n",
      " 'By Fire/Self Immolation' 'By Jumping off Moving Vehicles/Trains'\n",
      " 'By other means' 'By Self Infliction of injury' 'By Over Alcoholism'\n",
      " 'By Consuming Other Poison' 'By coming under running vehicles/trains'\n",
      " 'By Overdose of sleeping pills' 'By Jumping from (Building)'\n",
      " 'By Drowning' 'By Fire-Arms' 'Retired Person' 'Unemployed'\n",
      " 'Public Sector Undertaking' 'Service (Private)' 'House Wife'\n",
      " 'Self-employed (Business activity)' 'Professional Activity' 'Student'\n",
      " 'Others (Please Specify)' 'Farming/Agriculture Activity'\n",
      " 'Service (Government)' 'Married' 'Seperated' 'Widowed/Widower' 'Divorcee'\n",
      " 'Never Married' 'Bankruptcy or Sudden change in Economic Status'\n",
      " 'Not having Children (Barrenness/Impotency'] \n",
      "\n",
      "Enter the cause type: Divorcee\n",
      "\n",
      "The probability of suicide due to cause type:- Divorcee  in  Tripura  is:  0.0017244766540787148\n",
      "\n",
      "The percent in above case is:  0.1724476654078715 %\n"
     ]
    }
   ],
   "source": [
    "state_menu = df['State'].unique()\n",
    "print(state_menu,\"\\n\")\n",
    "state = input(\"Enter the state: \")\n",
    "cause_menu = df['Type'].unique()\n",
    "print(\"\\n\",cause_menu,\"\\n\")\n",
    "cause = input(\"Enter the cause type: \")\n",
    "df_state = df[df['State'] == state]\n",
    "state_sum = df_state.loc[df_state['State'] == state, 'Total'].sum()\n",
    "df_cause = df_state[df_state['Type'] == cause]\n",
    "cause_sum = df_cause.loc[df_cause['Type'] == cause, 'Total'].sum()\n",
    "print(\"\\nThe probability of suicide due to cause type:-\",cause,\" in \",state,\" is: \",(cause_sum/state_sum))\n",
    "print(\"\\nThe percent in above case is: \",(cause_sum/state_sum)*100,\"%\")\n",
    "     "
   ]
  },
  {
   "cell_type": "code",
   "execution_count": null,
   "id": "8473e91c",
   "metadata": {},
   "outputs": [],
   "source": [
    "\n"
   ]
  },
  {
   "cell_type": "code",
   "execution_count": 31,
   "id": "3984ec71",
   "metadata": {},
   "outputs": [],
   "source": [
    "eduDf = df[df['Type_code']=='Education_Status']\n",
    "causesDf = df[df['Type_code']=='Causes']\n",
    "meansDf = df[df['Type_code']=='Means_adopted']\n",
    "profDf = df[df['Type_code']=='Professional_Profile']\n",
    "socialDf = df[df['Type_code']=='Social_Status']"
   ]
  },
  {
   "cell_type": "code",
   "execution_count": 32,
   "id": "24eabf18",
   "metadata": {},
   "outputs": [
    {
     "data": {
      "image/png": "[encoded data removed]",
      "text/plain": [
       "<Figure size 864x432 with 1 Axes>"
      ]
     },
     "metadata": {
      "needs_background": "light"
     },
     "output_type": "display_data"
    }
   ],
   "source": [
    "plt.figure(figsize=(12,6))\n",
    "eduDf = eduDf[['Type','Gender','Total']]\n",
    "edSort = eduDf.groupby(['Type','Gender'],as_index=False).sum().sort_values('Total',ascending=False)\n",
    "sns.barplot(x='Type',y='Total',hue='Gender',data=edSort,palette='viridis')\n",
    "plt.xticks(rotation=45,ha='right')\n",
    "plt.tight_layout()"
   ]
  },
  {
   "cell_type": "markdown",
   "id": "b135db77",
   "metadata": {},
   "source": [
    "Number of suicides appear to be concentrated towards Lower education level. Most of the people who have committed suicides have education level below Matriculate/Secondary."
   ]
  },
  {
   "cell_type": "code",
   "execution_count": 33,
   "id": "2cdaeee7",
   "metadata": {},
   "outputs": [
    {
     "data": {
      "image/png": "[encoded data removed]",
      "text/plain": [
       "<Figure size 648x432 with 1 Axes>"
      ]
     },
     "metadata": {
      "needs_background": "light"
     },
     "output_type": "display_data"
    }
   ],
   "source": [
    "plt.figure(figsize=(9,6))\n",
    "socialDf = socialDf[['Type','Gender','Total']]\n",
    "socialSort = socialDf.groupby(['Type','Gender'],as_index=False).sum().sort_values('Total',ascending=False)\n",
    "sns.barplot(x='Type',y='Total',data=socialSort,hue='Gender',palette='viridis')\n",
    "plt.xticks(rotation=45,ha='right')\n",
    "plt.tight_layout()"
   ]
  },
  {
   "cell_type": "code",
   "execution_count": 34,
   "id": "be707731",
   "metadata": {},
   "outputs": [
    {
     "data": {
      "image/png": "[encoded data removed]",
      "text/plain": [
       "<Figure size 864x432 with 1 Axes>"
      ]
     },
     "metadata": {
      "needs_background": "light"
     },
     "output_type": "display_data"
    }
   ],
   "source": [
    "causesDf.is_copy = False\n",
    "causesDf.loc[causesDf['Type']=='Bankruptcy or Sudden change in Economic','Type'] = 'Change in Economic Status'\n",
    "causesDf.loc[causesDf['Type']=='Bankruptcy or Sudden change in Economic Status','Type'] = 'Change in Economic Status'\n",
    "causesDf.loc[causesDf['Type']=='Other Causes (Please Specity)','Type'] = 'Causes Not known'\n",
    "causesDf.loc[causesDf['Type']=='Not having Children (Barrenness/Impotency','Type'] = 'Not having Children(Barrenness/Impotency'\n",
    "plt.figure(figsize=(12,6))\n",
    "causesDf = causesDf[['Type','Gender','Total']]\n",
    "causesSort = causesDf.groupby(['Type','Gender'],as_index=False).sum().sort_values('Total',ascending=False)\n",
    "sns.barplot(x='Type',y='Total',data=causesSort,hue='Gender',palette='viridis')\n",
    "plt.xticks(rotation=45,ha='right')\n",
    "plt.tight_layout()\n",
    "     "
   ]
  },
  {
   "cell_type": "markdown",
   "id": "99fa791e",
   "metadata": {},
   "source": [
    "While most of the causes of the suicides are not known, the three major causes among the known cases are Family problems, Prolonged illness and mental illness.\n",
    "\n",
    "According to the data men seem to be badly effected by unemployment, property dispute, poverty,drug abuse or addiction and change in economic status than women.\n",
    "\n",
    "Number of women who have committed suicides due to dowry disputes is much higher when compared to men,"
   ]
  },
  {
   "cell_type": "code",
   "execution_count": 35,
   "id": "1d9b16b8",
   "metadata": {},
   "outputs": [
    {
     "data": {
      "image/png": "[encoded data removed]",
      "text/plain": [
       "<Figure size 1008x432 with 2 Axes>"
      ]
     },
     "metadata": {
      "needs_background": "light"
     },
     "output_type": "display_data"
    }
   ],
   "source": [
    "causes = df[df['Type_code']=='Causes']\n",
    "causesGrp = causes.groupby(['State','Age_group'],as_index=False).sum()\n",
    "causesGrpPvt = causesGrp.pivot(index='Age_group',columns='State',values='Total')\n",
    "plt.figure(figsize=(14,6))\n",
    "plt.xticks(rotation=45,ha='right')\n",
    "sns.heatmap(causesGrpPvt,cmap='YlGnBu')\n",
    "plt.tight_layout()\n",
    "     "
   ]
  },
  {
   "cell_type": "markdown",
   "id": "33affe88",
   "metadata": {},
   "source": [
    "This plot gives us an insight on the number of suicides, based on state and age group. As we can see **15-29** is the most vulnerable age in all states except Kerala. **Maharashtra is the state with most number of suicides**.Number of suicides per square kilometre might give us some more information on this."
   ]
  },
  {
   "cell_type": "code",
   "execution_count": null,
   "id": "9a6d6804",
   "metadata": {},
   "outputs": [],
   "source": []
  },
  {
   "cell_type": "code",
   "execution_count": null,
   "id": "6b2d337b",
   "metadata": {},
   "outputs": [],
   "source": []
  }
 ],
 "metadata": {
  "kernelspec": {
   "display_name": "Python 3 (ipykernel)",
   "language": "python",
   "name": "python3"
  },
  "language_info": {
   "codemirror_mode": {
    "name": "ipython",
    "version": 3
   },
   "file_extension": ".py",
   "mimetype": "text/x-python",
   "name": "python",
   "nbconvert_exporter": "python",
   "pygments_lexer": "ipython3",
   "version": "3.9.12"
  }
 },
 "nbformat": 4,
 "nbformat_minor": 5
}
